{
 "cells": [
  {
   "cell_type": "markdown",
   "id": "86b37d90",
   "metadata": {},
   "source": [
    "# Short Program and Written Reflection 1\n",
    "**Name:**       Krishna Priya Nimmagadda\\\n",
    "**Student ID:** 300595605\n"
   ]
  },
  {
   "cell_type": "markdown",
   "id": "288b557d",
   "metadata": {},
   "source": [
    "### Creating the Corpus"
   ]
  },
  {
   "cell_type": "markdown",
   "id": "729d84c1",
   "metadata": {},
   "source": [
    "**Proposed Corpus:**\n",
    "A corpus consisting of ten individual `.txt` files, each containing text data from the newest discussion posts on *r/VALORANT*. *VALORANT* is a popular free-to-play 5v5, character-based tactical shooter developed by Riot Games. Analyzing discussions on this subreddit provides insights into community trends, player feedback, and favorite aspects of the game, potentially assisting Riot Games in future development.\n",
    "\n",
    "**Logical Connection:**\n",
    "All texts are categorized under the \"Dicussion\" tag to ensure they are focused on players' opinions, game insights and other topics. This similarity creates a cohesive corpus, suitable for analyzing trends and community dynamics in the game's player base. "
   ]
  },
  {
   "cell_type": "markdown",
   "id": "917215de",
   "metadata": {},
   "source": [
    "### Developing a Program to Load Texts into Python"
   ]
  },
  {
   "cell_type": "markdown",
   "id": "32849648",
   "metadata": {},
   "source": [
    "The files are stored on my GitHub repository and will be accessed via the following URL: \\\n",
    "https://github.com/krishnapriya-n/valorant-reddit/blob/main/valorant_reddit.zip"
   ]
  },
  {
   "cell_type": "markdown",
   "id": "aa4f66c3",
   "metadata": {},
   "source": [
    "**Required Libraries**"
   ]
  },
  {
   "cell_type": "code",
   "execution_count": 34,
   "id": "6acb4e1c",
   "metadata": {},
   "outputs": [],
   "source": [
    "# Importing the required libraries\n",
    "import requests\n",
    "import zipfile\n",
    "import os\n",
    "import nltk\n",
    "from nltk.corpus.reader.plaintext import PlaintextCorpusReader\n",
    "from nltk.probability import FreqDist\n",
    "from nltk.corpus import stopwords\n",
    "import matplotlib.pyplot as plt\n",
    "import numpy as np"
   ]
  },
  {
   "cell_type": "markdown",
   "id": "11be6298",
   "metadata": {},
   "source": [
    "**Download and Extract the Corpus**"
   ]
  },
  {
   "cell_type": "code",
   "execution_count": 2,
   "id": "37a0be45",
   "metadata": {},
   "outputs": [
    {
     "name": "stdout",
     "output_type": "stream",
     "text": [
      "Download successful!\n",
      "Corpus folder already exists.\n"
     ]
    }
   ],
   "source": [
    "# URL of the ZIP file\n",
    "url = 'https://github.com/krishnapriya-n/valorant-reddit/raw/main/valorant_reddit.zip'\n",
    "output_file = 'valorant_reddit.zip'\n",
    "\n",
    "# Download the file using requests with error handling\n",
    "try:\n",
    "    response = requests.get(url)\n",
    "    response.raise_for_status()  # Raise an error for bad responses\n",
    "    with open(output_file, 'wb') as file:\n",
    "        file.write(response.content)\n",
    "    print(\"Download successful!\")\n",
    "except requests.exceptions.RequestException as e:\n",
    "    print(f\"Error downloading the file: {e}\")\n",
    "\n",
    "# Extract the ZIP file\n",
    "corpus_folder = 'valorant_corpus'\n",
    "if not os.path.exists(corpus_folder):\n",
    "    with zipfile.ZipFile(output_file, 'r') as zip_ref:\n",
    "        zip_ref.extractall(corpus_folder)\n",
    "    print(\"Extraction successful!\")\n",
    "else:\n",
    "    print(\"Corpus folder already exists.\")"
   ]
  },
  {
   "cell_type": "markdown",
   "id": "661049c6",
   "metadata": {},
   "source": [
    "**Validate and Load the Text Files**"
   ]
  },
  {
   "cell_type": "code",
   "execution_count": 3,
   "id": "0d5ed23b",
   "metadata": {},
   "outputs": [
    {
     "name": "stdout",
     "output_type": "stream",
     "text": [
      "Found 10 text files.\n",
      "\n",
      "Successfully loaded 10 files into the corpus dictionary.\n"
     ]
    }
   ],
   "source": [
    "# List and validate extracted .txt files\n",
    "extracted_files = [file for file in os.listdir(corpus_folder) if file.endswith(\".txt\")]\n",
    "\n",
    "if extracted_files:\n",
    "    print(f\"Found {len(extracted_files)} text files.\")\n",
    "else:\n",
    "    print(\"No text files found in the corpus folder. Please check the extraction process.\")\n",
    "\n",
    "# Initialize a dictionary to store the texts\n",
    "corpus_texts = {}\n",
    "\n",
    "# Read each .txt file dynamically\n",
    "for filename in extracted_files:\n",
    "    file_path = os.path.join(corpus_folder, filename)\n",
    "    try:\n",
    "        with open(file_path, 'r', encoding='utf-8') as file:\n",
    "            corpus_texts[filename] = file.read()\n",
    "    except IOError as e:\n",
    "        print(f\"Error reading {filename}: {e}\")\n",
    "\n",
    "# Verify successful reading of the corpus\n",
    "if corpus_texts:\n",
    "    print(f\"\\nSuccessfully loaded {len(corpus_texts)} files into the corpus dictionary.\")\n",
    "else:\n",
    "    print(\"\\nNo files were loaded. Please check for errors.\")"
   ]
  },
  {
   "cell_type": "markdown",
   "id": "5d5253a5",
   "metadata": {},
   "source": [
    "### Creating an NLTK Corpus"
   ]
  },
  {
   "cell_type": "markdown",
   "id": "bb7b3676",
   "metadata": {},
   "source": [
    "An NLTK Corpus is created using NLTK functions. `PlaintextCorpusReader` is the reader being used here for corpis that consists of the plaintext documents."
   ]
  },
  {
   "cell_type": "code",
   "execution_count": 4,
   "id": "b991d0a8",
   "metadata": {},
   "outputs": [
    {
     "name": "stdout",
     "output_type": "stream",
     "text": [
      "\n",
      "Content of text1.txt (first 50 characters):\n",
      " another idea.. texture packs..\n",
      "\n",
      "well after a bunch\n"
     ]
    }
   ],
   "source": [
    "# Create an NLTK corpus from the extracted .txt files\n",
    "corpus = PlaintextCorpusReader(corpus_folder, r'.*\\.txt')\n",
    "\n",
    "# Print sample content from the first file to confirm readability\n",
    "sample_file = corpus.fileids()[0]\n",
    "print(f\"\\nContent of {sample_file} (first 50 characters):\\n\", corpus.raw(sample_file)[:50])"
   ]
  },
  {
   "cell_type": "markdown",
   "id": "c066b679",
   "metadata": {},
   "source": [
    "The program successfully downloaded, extracted and processed the corpus. The corpus is ready for further analysis using NLTK tools."
   ]
  },
  {
   "cell_type": "markdown",
   "id": "4e21db1e",
   "metadata": {},
   "source": [
    "### Basic Metrics"
   ]
  },
  {
   "cell_type": "markdown",
   "id": "95436d28",
   "metadata": {},
   "source": [
    "The following metrics are calculated for the corpus:\n",
    "- Total tokens and types in the entire corpus\n",
    "- Total tokens and types in each text\n",
    "- Average number of types and tokens across the texts\n",
    "- Lexical diversity of the texts\n",
    "\n",
    "**Tokens** represent the total number of words.\\\n",
    "**Types** represent the total number of unique words.\\\n",
    "**Lexical Diversity** is the ratio of types to tokens. A higher ratio implies a more diverse vocabulary used in the text, whereas a lower ratio suggests more repetative language."
   ]
  },
  {
   "cell_type": "code",
   "execution_count": 5,
   "id": "61df9644",
   "metadata": {},
   "outputs": [
    {
     "name": "stdout",
     "output_type": "stream",
     "text": [
      "Total tokens in the entire corpus: 2146\n",
      "Total types in the entire corpus: 784\n",
      "\n",
      "Tokens and Types for each text:\n",
      "text1.txt: Tokens = 119, Types = 85\n",
      "text10.txt: Tokens = 442, Types = 210\n",
      "text2.txt: Tokens = 164, Types = 105\n",
      "text3.txt: Tokens = 266, Types = 147\n",
      "text4.txt: Tokens = 75, Types = 52\n",
      "text5.txt: Tokens = 226, Types = 140\n",
      "text6.txt: Tokens = 256, Types = 143\n",
      "text7.txt: Tokens = 102, Types = 80\n",
      "text8.txt: Tokens = 68, Types = 54\n",
      "text9.txt: Tokens = 428, Types = 227\n",
      "\n",
      "Average number of tokens per text: 214.60\n",
      "Average number of types per text: 124.30\n",
      "Lexical diversity of the entire corpus: 0.3653\n"
     ]
    }
   ],
   "source": [
    "# Function to compute tokens and types for a single text\n",
    "def get_tokens_and_types(text):\n",
    "    tokens = corpus.words(text)  # Get the tokens for the text\n",
    "    types = set(tokens)          # Get unique words (types)\n",
    "    return tokens, types\n",
    "\n",
    "# 1. Total tokens and types in the entire corpus\n",
    "all_tokens = corpus.words()\n",
    "all_types = set(all_tokens)\n",
    "\n",
    "# 2. Total tokens and types for each text\n",
    "text_metrics = {}\n",
    "for file_id in corpus.fileids():\n",
    "    tokens, types = get_tokens_and_types(file_id)\n",
    "    text_metrics[file_id] = {\n",
    "        'tokens': len(tokens),\n",
    "        'types': len(types)\n",
    "    }\n",
    "\n",
    "# 3. Average number of tokens and types across all texts\n",
    "total_tokens = sum([metrics['tokens'] for metrics in text_metrics.values()])\n",
    "total_types = sum([metrics['types'] for metrics in text_metrics.values()])\n",
    "num_texts = len(text_metrics)\n",
    "\n",
    "avg_tokens = total_tokens / num_texts\n",
    "avg_types = total_types / num_texts\n",
    "\n",
    "# 4. Lexical diversity of the entire corpus\n",
    "lexical_diversity = len(all_types) / len(all_tokens)\n",
    "\n",
    "# Print the results\n",
    "print(f\"Total tokens in the entire corpus: {len(all_tokens)}\")\n",
    "print(f\"Total types in the entire corpus: {len(all_types)}\\n\")\n",
    "\n",
    "print(\"Tokens and Types for each text:\")\n",
    "for file_id, metrics in text_metrics.items():\n",
    "    print(f\"{file_id}: Tokens = {metrics['tokens']}, Types = {metrics['types']}\")\n",
    "\n",
    "print(f\"\\nAverage number of tokens per text: {avg_tokens:.2f}\")\n",
    "print(f\"Average number of types per text: {avg_types:.2f}\")\n",
    "print(f\"Lexical diversity of the entire corpus: {lexical_diversity:.4f}\")"
   ]
  },
  {
   "cell_type": "markdown",
   "id": "959a3081",
   "metadata": {},
   "source": [
    "#### Results"
   ]
  },
  {
   "cell_type": "markdown",
   "id": "672cf4c0",
   "metadata": {},
   "source": [
    "**Total tokens and types in the entire corpus:** \\\n",
    "There are 2146 words in total across all the texts, with 784 unique words in the entire corpus.\n",
    "\n",
    "**Tokens and types for each text:** \\\n",
    "The number of tokens in each text ranges from 68 (in the shortest text) to 442 (in the longest text). The number of unique words (types) ranges from 52 to 227, with the highest vocabulary diversity in the longest text.\n",
    "\n",
    "**Average number of tokens and types:** \\\n",
    "The average number of tokens per text is 214.60, indicating that the posts in the corpus are of short to medium length.\\\n",
    "The average number of types per text is 124.30, which suggests moderate variation in vocabulary across the posts.\n",
    "\n",
    "**Lexical Diversity:** \\\n",
    "The lexical diversity of the entire corpus is 0.3653, meaning that about 36.5% of the words in the corpus are unique. This suggests that while the texts are somewhat repetitive, there is still a decent level of variation in the language used."
   ]
  },
  {
   "cell_type": "markdown",
   "id": "72847ed6",
   "metadata": {},
   "source": [
    "### Frequency Distributions"
   ]
  },
  {
   "cell_type": "markdown",
   "id": "e68cf01c",
   "metadata": {},
   "source": [
    "The frequency distributions of the types and tokens in the corpus is created using the `NLTK` library where the frequency of each word is calculated.\n",
    "\n",
    "**Frequency distribution of types and tokens across the corpus:** \\\n",
    "This distribution represents the frequency of every word that appears in the corpus, including repetitions."
   ]
  },
  {
   "cell_type": "code",
   "execution_count": 6,
   "id": "463a101d",
   "metadata": {},
   "outputs": [],
   "source": [
    "# Frequency distribution of all tokens in the entire corpus\n",
    "all_tokens = corpus.words()\n",
    "all_token_fd = FreqDist(all_tokens)"
   ]
  },
  {
   "cell_type": "markdown",
   "id": "4acde505",
   "metadata": {},
   "source": [
    "**Most frequent words in the corpus:** \\\n",
    "This distribution focuses on the unique words (types) that appear in the corpus, excluding repetitions."
   ]
  },
  {
   "cell_type": "code",
   "execution_count": 7,
   "id": "b468b73a",
   "metadata": {},
   "outputs": [
    {
     "name": "stdout",
     "output_type": "stream",
     "text": [
      "10 Most Common Tokens in the Corpus:\n",
      "[('I', 68), ('.', 66), ('the', 55), (',', 54), ('and', 53), ('to', 50), ('a', 32), ('in', 31), ('is', 29), ('my', 28)]\n",
      "\n",
      "10 Most Common Types in the Corpus:\n",
      "[('unreasonable', 1), ('if', 1), ('encounter', 1), ('ragers', 1), ('lobby', 1), ('fair', 1), ('doing', 1), ('terms', 1), ('/', 1), ('getting', 1)]\n"
     ]
    }
   ],
   "source": [
    "# Frequency distribution of types (unique words) in the entire corpus\n",
    "all_types = set(all_tokens)\n",
    "all_type_fd = FreqDist(all_types)\n",
    "\n",
    "# Print the 10 most common tokens in the entire corpus\n",
    "print(\"10 Most Common Tokens in the Corpus:\")\n",
    "print(all_token_fd.most_common(10))\n",
    "\n",
    "# Print the 10 most common types (unique words) in the entire corpus\n",
    "print(\"\\n10 Most Common Types in the Corpus:\")\n",
    "print(all_type_fd.most_common(10))"
   ]
  },
  {
   "cell_type": "markdown",
   "id": "d70d6357",
   "metadata": {},
   "source": [
    "**Most frequent words in individual texts:** \\\n",
    "The ten most frequent tokens (including common stopwords and punctuation) and unique types (distinct vocabulary) in the corpus are shown below."
   ]
  },
  {
   "cell_type": "code",
   "execution_count": 8,
   "id": "ba1f40cd",
   "metadata": {},
   "outputs": [
    {
     "name": "stdout",
     "output_type": "stream",
     "text": [
      "\n",
      "5 Most Common Words in text1.txt:\n",
      "[('texture', 5), ('packs', 4), ('.', 4), (',', 4), ('..', 3)]\n",
      "\n",
      "5 Most Common Words in text10.txt:\n",
      "[('I', 16), (\"'\", 14), ('the', 14), (',', 13), ('and', 12)]\n",
      "\n",
      "5 Most Common Words in text2.txt:\n",
      "[(':', 16), (',', 5), ('please', 5), ('I', 3), ('’', 3)]\n",
      "\n",
      "5 Most Common Words in text3.txt:\n",
      "[('I', 15), ('my', 11), ('the', 9), ('have', 9), ('to', 8)]\n",
      "\n",
      "5 Most Common Words in text4.txt:\n",
      "[('i', 5), ('and', 4), ('you', 3), ('my', 3), ('followers', 2)]\n",
      "\n",
      "5 Most Common Words in text5.txt:\n",
      "[('I', 14), ('and', 8), ('to', 8), ('.', 8), ('a', 7)]\n",
      "\n",
      "5 Most Common Words in text6.txt:\n",
      "[('.', 13), ('i', 13), (',', 9), ('to', 8), ('this', 6)]\n",
      "\n",
      "5 Most Common Words in text7.txt:\n",
      "[('i', 5), ('/', 5), (',', 4), ('just', 3), ('.', 3)]\n",
      "\n",
      "5 Most Common Words in text8.txt:\n",
      "[('is', 5), ('are', 3), ('servers', 2), ('named', 2), ('after', 2)]\n",
      "\n",
      "5 Most Common Words in text9.txt:\n",
      "[('I', 19), ('.', 16), ('and', 15), ('the', 13), ('to', 11)]\n"
     ]
    }
   ],
   "source": [
    "# Frequency distribution for each text\n",
    "text_frequency_distributions = {}\n",
    "for file_id in corpus.fileids():\n",
    "    text_tokens = corpus.words(file_id)\n",
    "    text_fd = FreqDist(text_tokens)\n",
    "    text_frequency_distributions[file_id] = text_fd\n",
    "\n",
    "    # Print 5 most common words in the current text\n",
    "    print(f\"\\n5 Most Common Words in {file_id}:\")\n",
    "    print(text_fd.most_common(5))"
   ]
  },
  {
   "cell_type": "markdown",
   "id": "0d38047a",
   "metadata": {},
   "source": [
    "**Infrequent words:** \\\n",
    "Words that appear only once across the entire corpus are considered infrequent. The following are the most infrequent words, appearing only once in the entire collection."
   ]
  },
  {
   "cell_type": "code",
   "execution_count": 9,
   "id": "c6726a60",
   "metadata": {},
   "outputs": [
    {
     "name": "stdout",
     "output_type": "stream",
     "text": [
      "\n",
      "Infrequent Words (appear only once across the entire corpus):\n",
      "['idea', 'bunch', 'traction', 'post', 'decided', 'thing', 'happen', 'made', 'overwolf', 'built']\n"
     ]
    }
   ],
   "source": [
    "# Identify infrequent words (words that occur only once)\n",
    "infrequent_words = [word for word, freq in all_token_fd.items() if freq == 1]\n",
    "print(\"\\nInfrequent Words (appear only once across the entire corpus):\")\n",
    "print(infrequent_words[:10])  # Display first 10 infrequent words"
   ]
  },
  {
   "cell_type": "markdown",
   "id": "491b7322",
   "metadata": {},
   "source": [
    "#### Results"
   ]
  },
  {
   "cell_type": "markdown",
   "id": "74e20b74",
   "metadata": {},
   "source": [
    "**Most Common Tokens in the Corpus:** \\\n",
    "The most common tokens in the corpus reflect common words, including personal pronouns and punctuation marks.\\\n",
    "Tokens like \"I\" (68), \".\" (66), \",\" (54), and \"and\" (53) occur frequently. These are likely to be common stopwords or punctuation that appear throughout the corpus, which are often used in conversational or informal writing.\n",
    "\n",
    "**Most Common Types in the Corpus:** \\\n",
    "The types refer to unique words (distinct vocabulary) across the corpus.\\\n",
    "Types like \"it\", \"way\", \"urge\", \"suggests\", \"nowhere\" occur just once across the corpus. This suggests these could be key content words specific to a particular text or usage.\n",
    "\n",
    "**Most Common Words in Individual Texts:** \\\n",
    "The most commonly occuring words in individual texts is printed out in the output above, which shows the range of each post and the different concerns/ discussion topics.\n",
    "\n",
    "**Infrequent Words:** \\\n",
    "The words that appear only once in the entire corpus include \"idea\", \"bunch\", \"traction\", \"decided\". These could be more specific content words or domain-specific terms that appear infrequently, suggesting specialized discussions or unique references within certain texts."
   ]
  },
  {
   "cell_type": "markdown",
   "id": "a143d73b",
   "metadata": {},
   "source": [
    "### Preprocessing Techniques Affecting Corpus"
   ]
  },
  {
   "cell_type": "markdown",
   "id": "ab4b0fcf",
   "metadata": {},
   "source": [
    "Preprocessing is essential in natural language processing as it helps to clean and normalize the data. This makes it more suitable for further analysis. A few common preprocessing techniques are removing stop words and filtering words below a minimum frequency."
   ]
  },
  {
   "cell_type": "markdown",
   "id": "a3b651e4",
   "metadata": {},
   "source": [
    "#### Removing Stop Words\n",
    "**Description** \\\n",
    "Common words like \"the\", \"is\", \"and\", etc., which are frequently used in natural language without carrying any significant meaning by themselves are stop words. Removing these words can help focus on the other meaningful and contextual texts.\\\n",
    "This can be done in Python using the NLTK library."
   ]
  },
  {
   "cell_type": "code",
   "execution_count": 10,
   "id": "0cf7d9ce",
   "metadata": {},
   "outputs": [],
   "source": [
    "stop_words = set(stopwords.words('english'))\n",
    "filtered_tokens = [word for word in all_tokens if word.lower() not in stop_words]"
   ]
  },
  {
   "cell_type": "markdown",
   "id": "160415cd",
   "metadata": {},
   "source": [
    "**Effect** \\\n",
    "By removing stop words, the remaining words in the corpus carry more meaningful content. After the stop words are filtered out, only the nouns, verbs, adjectives and adverbs remain. These are the words that carry more weight in the understanding of context or topics of the text.\n",
    "\n",
    "**Interpretation** \\\n",
    "Removing stop words allows for a more meaningful analysis of the text. When performing tasks like topic modelling, clustering or word frequency analysis, the unique themes or topics will be revealed without the noise of the stop words. In the corpus being used, the more common words would be \"texture\", \"pack\" or something that relates to the game, rather than the stop words. "
   ]
  },
  {
   "cell_type": "markdown",
   "id": "2a72ada5",
   "metadata": {},
   "source": [
    "#### Removing Low-Frequency Words"
   ]
  },
  {
   "cell_type": "markdown",
   "id": "1ebd84c5",
   "metadata": {},
   "source": [
    "**Description** \\\n",
    "Removing low-frequency words refers to getting rid of words that appear less than a certain threshold of times in the corpus. This helps to remove rare or insignificant words."
   ]
  },
  {
   "cell_type": "code",
   "execution_count": 13,
   "id": "9610e440",
   "metadata": {},
   "outputs": [],
   "source": [
    "min_freq = 3\n",
    "filtered_tokens = [word for word, freq in all_token_fd.items() if freq >= min_freq]"
   ]
  },
  {
   "cell_type": "markdown",
   "id": "8b1ba4a3",
   "metadata": {},
   "source": [
    "**Effect** \\\n",
    "Removing low-frequency words would reduce the size of the vocabulary, leaving only those words that appear more frequently across the corpus. This would result in the text containing only terms that are likely to be more representative of the general themes.\n",
    "\n",
    "**Interpretation** \\\n",
    "Low-frequency words are often specific words, incorrect words or noise. Removing them would ensure the analysis would focus on the most significant and relevant vocabulary. For a small corpus similar to the one used in this project, there are more disadvantages comparatively. Some specialized content or unique expressions may be lost when low-frequency words are discarded. This might cause the analysis to miss specific details. The corpus would be overly generalized without the low-frequency words, as the uncommon words might carry meaning in specific contexts."
   ]
  },
  {
   "cell_type": "markdown",
   "id": "c5db98ee",
   "metadata": {},
   "source": [
    "#### Lowercasing"
   ]
  },
  {
   "cell_type": "markdown",
   "id": "98e607f1",
   "metadata": {},
   "source": [
    "**Description** \\\n",
    "Converting all text to lowercase ensures that words such as \"Valorant\", \"VALORANT\", and \"valorant\" are all treated as the same word."
   ]
  },
  {
   "cell_type": "code",
   "execution_count": 14,
   "id": "e253c570",
   "metadata": {},
   "outputs": [],
   "source": [
    "lowercased_tokens = [word.lower() for word in all_tokens]"
   ]
  },
  {
   "cell_type": "markdown",
   "id": "8453b76d",
   "metadata": {},
   "source": [
    "**Effect** \\\n",
    "Lowercasing the text would reduce the number of unique tokens and ensures that the words are uniform in representation. \n",
    "\n",
    "**Interpretation** \\\n",
    "Lowercasing helps avoid counting the same word multiple times due to different capitalizations, which simplifies the corpus and improves consistency for analysis, especially in tasks like frequency analysis or machine learning."
   ]
  },
  {
   "cell_type": "markdown",
   "id": "51ae3059",
   "metadata": {},
   "source": [
    "#### Spelling Correction"
   ]
  },
  {
   "cell_type": "markdown",
   "id": "c752475f",
   "metadata": {},
   "source": [
    "**Description** \\\n",
    "Correcting mispelled words in the text would standardize spelling across the corpus. "
   ]
  },
  {
   "cell_type": "code",
   "execution_count": 18,
   "id": "f4f1e5ea",
   "metadata": {},
   "outputs": [],
   "source": [
    "from spellchecker import SpellChecker\n",
    "spell = SpellChecker()\n",
    "corrected_tokens = [spell.correction(word) for word in all_tokens]"
   ]
  },
  {
   "cell_type": "markdown",
   "id": "ce2d2526",
   "metadata": {},
   "source": [
    "**Effect** \\\n",
    "Human errors in typing can lead to inconsistencies in word forms. Correcting spelling ensures uniform representation of words throughout the corpus.\n",
    "\n",
    "**Interpretation** \\\n",
    "Spelling errors are a common cause of inconsistencies and errors in analysis. By standardizing spelling, we ensure that similar words are grouped together. However, this may occasionally alter the original meaning or context of the text if the corrections are not contextually appropriate."
   ]
  },
  {
   "cell_type": "markdown",
   "id": "93e735c8",
   "metadata": {},
   "source": [
    "A few other techniques include (but are not limited to) the following:\n",
    "- **Stemming**: Reducing a word to its root (e.g., \"running\" becomes \"run\"\n",
    "- **Lemmatization**: Similar to stemming, but more advanced (e.g., \"better\" becomes \"good\")\n",
    "- **Removing Punctuation**: Punctuation might not add any significant meaning to the analysis (e.g., (, . ! ?))\n",
    "- **Removing Non-Alphanumeric Characters**: Special characters and symbols might not add any significant meaning to the text. (e.g., ♥,•,○) "
   ]
  },
  {
   "cell_type": "markdown",
   "id": "9f0cc6ef",
   "metadata": {},
   "source": [
    "### Unique Analysis Topic: Investigating Content Word Dominance Across Texts"
   ]
  },
  {
   "cell_type": "markdown",
   "id": "d2d0878e",
   "metadata": {},
   "source": [
    "**Objective:** Explore whether specific content words contribute significantly to the lexical diversity across different texts. Specifically, analyze if certain high-frequency content words dominate the vocabulary or if unique content words are evenly distributed across the texts.\n",
    "\n",
    "To find the lexical diversity across texts, the type/token ratio (TTR) will be calculated for each text in the corpus. This would give the base idea of the vocabulary diversity for each text and whether longer texts have a lower ratio of unique types to tokens, which suggests less diversity.\n",
    "\n",
    "**Formula:** $$ TTR = \\frac{\\text{Number of Unique Words (Types)}}{\\text{Total Number of Words (Tokens)}}$$\n",
    "\n",
    "**Hypothesis:** Longer texts tend to have lower lexical diversity due to increased repetition of functional words (like \"the,\" \"and,\" \"of\"). We will test this by comparing overall TTR with TTR calculated after removing common stopwords.\n",
    "\n",
    "A program is created to calculate the TTR for each text and analyze how the TTR correlates with the document length."
   ]
  },
  {
   "cell_type": "code",
   "execution_count": 36,
   "id": "29ef6541",
   "metadata": {},
   "outputs": [
    {
     "name": "stdout",
     "output_type": "stream",
     "text": [
      "\n",
      "Overall Lexical Diversity for Each Text:\n",
      "text1.txt: Lexical Diversity = 0.7857\n",
      "text10.txt: Lexical Diversity = 0.4924\n",
      "text2.txt: Lexical Diversity = 0.7193\n",
      "text3.txt: Lexical Diversity = 0.5413\n",
      "text4.txt: Lexical Diversity = 0.6806\n",
      "text5.txt: Lexical Diversity = 0.6103\n",
      "text6.txt: Lexical Diversity = 0.5735\n",
      "text7.txt: Lexical Diversity = 0.8313\n",
      "text8.txt: Lexical Diversity = 0.7931\n",
      "text9.txt: Lexical Diversity = 0.5335\n",
      "\n",
      "Filtered Lexical Diversity (without stopwords) for Each Text:\n",
      "text1.txt: Filtered Lexical Diversity = 0.7619\n",
      "text10.txt: Filtered Lexical Diversity = 0.7167\n",
      "text2.txt: Filtered Lexical Diversity = 0.7639\n",
      "text3.txt: Filtered Lexical Diversity = 0.7931\n",
      "text4.txt: Filtered Lexical Diversity = 0.8286\n",
      "text5.txt: Filtered Lexical Diversity = 0.8621\n",
      "text6.txt: Filtered Lexical Diversity = 0.8000\n",
      "text7.txt: Filtered Lexical Diversity = 0.9362\n",
      "text8.txt: Filtered Lexical Diversity = 0.9118\n",
      "text9.txt: Filtered Lexical Diversity = 0.7474\n"
     ]
    }
   ],
   "source": [
    "stop_words = set(stopwords.words('english'))\n",
    "\n",
    "# Dictionaries to store results\n",
    "text_lexical_diversity = {}\n",
    "filtered_lexical_diversity = {}\n",
    "\n",
    "# Calculate TTR with and without stopwords\n",
    "for file_id in corpus.fileids():\n",
    "    tokens = [word.lower() for word in corpus.words(file_id) if word.isalpha()]\n",
    "    \n",
    "    # Overall TTR\n",
    "    types = set(tokens)\n",
    "    lexical_diversity_text = len(types) / len(tokens) if tokens else 0\n",
    "    text_lexical_diversity[file_id] = lexical_diversity_text\n",
    "    \n",
    "    # TTR excluding stopwords\n",
    "    content_tokens = [word for word in tokens if word not in stop_words]\n",
    "    filtered_types = set(content_tokens)\n",
    "    lexical_diversity_filtered = len(filtered_types) / len(content_tokens) if content_tokens else 0\n",
    "    filtered_lexical_diversity[file_id] = lexical_diversity_filtered\n",
    "\n",
    "# Print the overall TTR\n",
    "print(\"\\nOverall Lexical Diversity for Each Text:\")\n",
    "for file_id, diversity in text_lexical_diversity.items():\n",
    "    print(f\"{file_id}: Lexical Diversity = {diversity:.4f}\")\n",
    "\n",
    "# Print the filtered TTR (without stopwords)\n",
    "print(\"\\nFiltered Lexical Diversity (without stopwords) for Each Text:\")\n",
    "for file_id, diversity in filtered_lexical_diversity.items():\n",
    "    print(f\"{file_id}: Filtered Lexical Diversity = {diversity:.4f}\")"
   ]
  },
  {
   "cell_type": "markdown",
   "id": "66683417",
   "metadata": {},
   "source": [
    "#### Results\n",
    "\n",
    "The results of lexical diversity for each text is given in the output above. "
   ]
  },
  {
   "cell_type": "code",
   "execution_count": 38,
   "id": "2aa79cf7",
   "metadata": {},
   "outputs": [
    {
     "data": {
      "image/png": "[encoded data removed]",
      "text/plain": [
       "<Figure size 1200x700 with 2 Axes>"
      ]
     },
     "metadata": {},
     "output_type": "display_data"
    }
   ],
   "source": [
    "# Convert data to percentages and get word counts\n",
    "texts = list(text_lexical_diversity.keys())\n",
    "overall_diversities = [val * 100 for val in text_lexical_diversity.values()]  # Overall TTR in %\n",
    "filtered_diversities = [val * 100 for val in filtered_lexical_diversity.values()]  # Filtered TTR in %\n",
    "word_counts = [len(corpus.words(file_id)) for file_id in corpus.fileids()]  # Total words in each text\n",
    "\n",
    "# Define bar width and positions\n",
    "bar_width = 0.3\n",
    "index = np.arange(len(texts))\n",
    "\n",
    "# Create the plot\n",
    "fig, ax1 = plt.subplots(figsize=(12, 7))\n",
    "\n",
    "# Plot lexical diversities\n",
    "ax1.bar(index, overall_diversities, bar_width, label='Overall Lexical Diversity (%)', color='#4E79A7')\n",
    "ax1.bar(index + bar_width, filtered_diversities, bar_width, label='Filtered Lexical Diversity (%)', color='#F28E2B')\n",
    "\n",
    "# Add labels and title for the first y-axis\n",
    "ax1.set_xlabel('Text', fontsize=12)\n",
    "ax1.set_ylabel('Lexical Diversity (%)', fontsize=12, color='black')\n",
    "ax1.set_title('Lexical Diversity (Overall vs. Filtered) and Word Count for Each Text', fontsize=14)\n",
    "ax1.set_xticks(index + bar_width / 2)\n",
    "ax1.set_xticklabels(texts, rotation=45, ha='right')\n",
    "\n",
    "# Display values on top of lexical diversity bars\n",
    "for i, (overall, filtered) in enumerate(zip(overall_diversities, filtered_diversities)):\n",
    "    ax1.text(i, overall + 1, f'{overall:.1f}%', ha='center', va='bottom', fontsize=10)\n",
    "    ax1.text(i + bar_width, filtered + 1, f'{filtered:.1f}%', ha='center', va='bottom', fontsize=10)\n",
    "\n",
    "# Create a second y-axis for word count\n",
    "ax2 = ax1.twinx()\n",
    "ax2.bar(index + 2 * bar_width, word_counts, bar_width, label='Total Words', color='#59A14F', alpha=0.7)\n",
    "ax2.set_ylabel('Total Words', fontsize=12, color='black')\n",
    "\n",
    "# Display values on top of word count bars\n",
    "for i, count in enumerate(word_counts):\n",
    "    ax2.text(i + 2 * bar_width, count + 10, f'{count}', ha='center', va='bottom', fontsize=10)\n",
    "\n",
    "# Add combined legend\n",
    "fig.legend(loc='upper left', bbox_to_anchor=(0.1, 0.95), fontsize=10)\n",
    "\n",
    "# Add grid lines for better readability\n",
    "ax1.grid(axis='y', linestyle='--', alpha=0.7)\n",
    "\n",
    "# Adjust layout to prevent overlap\n",
    "fig.tight_layout()\n",
    "\n",
    "# Display the plot\n",
    "plt.show()"
   ]
  },
  {
   "cell_type": "markdown",
   "id": "60be8ab9",
   "metadata": {},
   "source": [
    "The chart above demonstrates the percentage of overall lexical diversity (orange) compared to the filtered lexical diversity (blue). This is shown against the total words for each text, and it is seen that the overall lexical diversity is quite high in all of them. This means that the words used are diverse, and for smaller texts such as text4.txt and text7.txt, the unique word count is higher compared to a larger text. This is a common noticable trend as longer texts tend to have repeated words."
   ]
  },
  {
   "cell_type": "markdown",
   "id": "d681a088",
   "metadata": {},
   "source": [
    "### Conclusion\n",
    "\n",
    "By analyzing the types and tokens within the corpus, a notable relationship between the frequency distribution of words and the overall structure of the text is noticed. The corpus displayed a high number of tokens compared to types, which aligns with the expectations of a natural language corpus. This indicates that the corpus has a good amount of repeated words, which are likely due to stopwords or common functional words which dominate the text.\n",
    "\n",
    "The frequency distribution revealed some patterns, with a few words appearing more frequently than the others. After removing the stopwords, the type-token ratio (TTR) increased, which suggests that once the uninformative words were excluded, the corpus presented a more diverse vocabulary. This displays the importance of filtering stopwords when analyzing linguistic diversity. Examining the infrequent words reveals the more unique aspects of the text. Many of the infrequent words are either domain-specific or insignificant words, which requires further exploration to assess.\n",
    "\n",
    "The lexical diversity analyzing after filtering stopwords provided deeper insights into the unique vocabulary of the corpus. The TTR offered a clear picture of the linguist process, as the stopwords were no longer creating a noise in the diversity. By focusing on more meaningful words, it is evident that vocabulary distribution varies depending on the structure and intent of the text.\n",
    "\n",
    "While the analysis provided valuable insights, there are still areas that could be further explored. The corpus would need a larger number of text files data to gain a more clear understanding on the trends and similarities. With more varied text types, including technical documents and creative writings, the word distribution and its changes would be uncovered. Additionally some challenges remain in understanding the role of certain rare words and their context in the corpus.\n",
    "\n",
    "In the future, it would be useful to expand the corpus by adding more categories of words by text files (posts from the subreddit) to gain a more comprehensive understanding of the text. Furthermore, future analyses could explore the semantic relationships between words or focus on sentence structure to deepend the understanding of how language is used in the corpus."
   ]
  }
 ],
 "metadata": {
  "kernelspec": {
   "display_name": "Python 3 (ipykernel)",
   "language": "python",
   "name": "python3"
  },
  "language_info": {
   "codemirror_mode": {
    "name": "ipython",
    "version": 3
   },
   "file_extension": ".py",
   "mimetype": "text/x-python",
   "name": "python",
   "nbconvert_exporter": "python",
   "pygments_lexer": "ipython3",
   "version": "3.10.9"
  }
 },
 "nbformat": 4,
 "nbformat_minor": 5
}
